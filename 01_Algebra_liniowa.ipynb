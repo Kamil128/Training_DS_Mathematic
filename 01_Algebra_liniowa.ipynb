{
 "cells": [
  {
   "cell_type": "code",
   "execution_count": 1,
   "metadata": {},
   "outputs": [],
   "source": [
    "# !pip install numpy\n",
    "# !pip install matplotlib"
   ]
  },
  {
   "cell_type": "code",
   "execution_count": 2,
   "metadata": {},
   "outputs": [],
   "source": [
    "%load_ext autoreload\n",
    "%autoreload 2"
   ]
  },
  {
   "cell_type": "markdown",
   "metadata": {},
   "source": [
    "# Wstęp do algebry liniowej z wykorzystaniem biblioteki [NumPy](https://numpy.org)"
   ]
  },
  {
   "cell_type": "code",
   "execution_count": 3,
   "metadata": {
    "id": "6IxB_EJv5ZT-"
   },
   "outputs": [],
   "source": [
    "import numpy as np\n",
    "import matplotlib.pyplot as plt"
   ]
  },
  {
   "cell_type": "markdown",
   "metadata": {
    "id": "TX4MIr8mw_m7"
   },
   "source": [
    "# Scalar"
   ]
  },
  {
   "cell_type": "code",
   "execution_count": 4,
   "metadata": {
    "colab": {
     "base_uri": "https://localhost:8080/"
    },
    "id": "_XHORRZqdtuU",
    "outputId": "95aa05b7-c8b5-4b22-b825-f97f78a6fb87"
   },
   "outputs": [
    {
     "data": {
      "text/plain": [
       "10"
      ]
     },
     "execution_count": 4,
     "metadata": {},
     "output_type": "execute_result"
    }
   ],
   "source": [
    "s = 10\n",
    "s"
   ]
  },
  {
   "cell_type": "markdown",
   "metadata": {
    "id": "Jh2GvDGtxCnu"
   },
   "source": [
    "# Wektor"
   ]
  },
  {
   "cell_type": "code",
   "execution_count": 5,
   "metadata": {
    "colab": {
     "base_uri": "https://localhost:8080/"
    },
    "id": "8W55zedIdz2J",
    "outputId": "f6d2995f-a432-46a6-b927-a9af8e003e23"
   },
   "outputs": [
    {
     "data": {
      "text/plain": [
       "array([1, 2, 3])"
      ]
     },
     "execution_count": 5,
     "metadata": {},
     "output_type": "execute_result"
    }
   ],
   "source": [
    "# prosty wektor z listy\n",
    "X = np.array([1, 2, 3])\n",
    "X"
   ]
  },
  {
   "cell_type": "code",
   "execution_count": 6,
   "metadata": {
    "colab": {
     "base_uri": "https://localhost:8080/"
    },
    "id": "CF7FVNVvd4zS",
    "outputId": "ae034818-ccda-45df-b54b-8c6efaf9f264"
   },
   "outputs": [
    {
     "name": "stdout",
     "output_type": "stream",
     "text": [
      "Rozmiar:   (3,)\n",
      "Pojemność: 3\n",
      "Wymiar:    1\n"
     ]
    }
   ],
   "source": [
    "# opis wektora\n",
    "print(f\"Rozmiar:   {X.shape}\")\n",
    "print(f\"Pojemność: {X.size}\")\n",
    "print(f\"Wymiar:    {X.ndim}\")"
   ]
  },
  {
   "cell_type": "code",
   "execution_count": 7,
   "metadata": {
    "colab": {
     "base_uri": "https://localhost:8080/"
    },
    "id": "NteUb-Rrd9LX",
    "outputId": "9d0595b5-049b-4186-96cb-7c5beff1a212"
   },
   "outputs": [
    {
     "data": {
      "text/plain": [
       "1"
      ]
     },
     "execution_count": 7,
     "metadata": {},
     "output_type": "execute_result"
    }
   ],
   "source": [
    "# dostęp do elementów wektora\n",
    "# element x1 -> index x[0]\n",
    "X[0]"
   ]
  },
  {
   "cell_type": "code",
   "execution_count": 8,
   "metadata": {
    "colab": {
     "base_uri": "https://localhost:8080/"
    },
    "id": "nS463XJM6rhl",
    "outputId": "f8a0d372-ec0f-40df-9b62-0e3c32febe54"
   },
   "outputs": [
    {
     "data": {
      "text/plain": [
       "array([[1. ],\n",
       "       [2. ],\n",
       "       [3. ],\n",
       "       [5.5]])"
      ]
     },
     "execution_count": 8,
     "metadata": {},
     "output_type": "execute_result"
    }
   ],
   "source": [
    "# wektor kolumnowy\n",
    "Y = np.array([[1], [2], [3], [5.5]])\n",
    "Y"
   ]
  },
  {
   "cell_type": "markdown",
   "metadata": {
    "id": "tpunUprYxN2_"
   },
   "source": [
    "# Macierz"
   ]
  },
  {
   "cell_type": "markdown",
   "metadata": {
    "id": "Q4z-uzr2A9UK"
   },
   "source": [
    "Macierz to układ liczb, symboli lub wyrażeń zapisanych w postaci prostokątnej tablicy. Możemy myśleć o macierzy jako zbiorze wektorów lub reprezentaci tabeli."
   ]
  },
  {
   "cell_type": "code",
   "execution_count": 9,
   "metadata": {
    "colab": {
     "base_uri": "https://localhost:8080/"
    },
    "id": "AzlAxllBeNNp",
    "outputId": "eff0f3f2-2303-4548-9340-b16648c62a65"
   },
   "outputs": [
    {
     "data": {
      "text/plain": [
       "array([[1, 2, 3],\n",
       "       [2, 3, 4]])"
      ]
     },
     "execution_count": 9,
     "metadata": {},
     "output_type": "execute_result"
    }
   ],
   "source": [
    "# macierz\n",
    "M = np.array([[1, 2, 3], [2, 3, 4]])\n",
    "M"
   ]
  },
  {
   "cell_type": "code",
   "execution_count": 10,
   "metadata": {
    "colab": {
     "base_uri": "https://localhost:8080/"
    },
    "id": "feZWCNlTeU3t",
    "outputId": "2ea4a933-c096-462f-b4f7-8a105474e9b4"
   },
   "outputs": [
    {
     "name": "stdout",
     "output_type": "stream",
     "text": [
      "Rozmiar:   (2, 3)\n",
      "Pojemność: 6\n",
      "Wymiar:    2\n"
     ]
    }
   ],
   "source": [
    "# opis macierzy\n",
    "print(f\"Rozmiar:   {M.shape}\")\n",
    "print(f\"Pojemność: {M.size}\")\n",
    "print(f\"Wymiar:    {M.ndim}\")"
   ]
  },
  {
   "cell_type": "code",
   "execution_count": 11,
   "metadata": {
    "colab": {
     "base_uri": "https://localhost:8080/"
    },
    "id": "R6BA6Yq9eYck",
    "outputId": "ec0d89d7-45e8-4a35-eb2b-acf1f7dbffb0"
   },
   "outputs": [
    {
     "data": {
      "text/plain": [
       "3"
      ]
     },
     "execution_count": 11,
     "metadata": {},
     "output_type": "execute_result"
    }
   ],
   "source": [
    "# dostęp do elementów macierzy \n",
    "M[0][2]\n",
    "M[0, 2]"
   ]
  },
  {
   "cell_type": "markdown",
   "metadata": {
    "id": "_9d8s7O7EYJD"
   },
   "source": [
    "# Tensor"
   ]
  },
  {
   "cell_type": "markdown",
   "metadata": {
    "id": "xLPVLPhZ6zjK"
   },
   "source": [
    "Tensor jako uogulnienie macierzy - tablicą wypełnioną macierzami."
   ]
  },
  {
   "cell_type": "code",
   "execution_count": 12,
   "metadata": {
    "colab": {
     "base_uri": "https://localhost:8080/"
    },
    "id": "pPwhufqU69Sm",
    "outputId": "fa22b783-af3a-4e33-c87d-ec4f43398875"
   },
   "outputs": [
    {
     "data": {
      "text/plain": [
       "array([[[1. , 2. , 3.3],\n",
       "        [2. , 3. , 4. ]],\n",
       "\n",
       "       [[1. , 2. , 5. ],\n",
       "        [5. , 5. , 6. ]]])"
      ]
     },
     "execution_count": 12,
     "metadata": {},
     "output_type": "execute_result"
    }
   ],
   "source": [
    "T = np.array([\n",
    "              [[1, 2, 3.3], [2, 3, 4]], \n",
    "              [[1, 2, 5. ], [5, 5, 6]]\n",
    "              ])\n",
    "T"
   ]
  },
  {
   "cell_type": "code",
   "execution_count": 13,
   "metadata": {
    "colab": {
     "base_uri": "https://localhost:8080/"
    },
    "id": "4n_uxa_3EV8F",
    "outputId": "bdb86398-5bcc-4e4f-9507-51361d4d0182"
   },
   "outputs": [
    {
     "name": "stdout",
     "output_type": "stream",
     "text": [
      "Rozmiar:   (2, 2, 3)\n",
      "Pojemność: 12\n",
      "Wymiar:    3\n"
     ]
    }
   ],
   "source": [
    "# opis tensora\n",
    "print(f\"Rozmiar:   {T.shape}\")\n",
    "print(f\"Pojemność: {T.size}\")\n",
    "print(f\"Wymiar:    {T.ndim}\")"
   ]
  },
  {
   "cell_type": "code",
   "execution_count": 14,
   "metadata": {
    "colab": {
     "base_uri": "https://localhost:8080/"
    },
    "id": "6N6XnYH37Ml9",
    "outputId": "00ed9b34-2459-4fd5-8722-96fcf6428df7"
   },
   "outputs": [
    {
     "data": {
      "text/plain": [
       "3.0"
      ]
     },
     "execution_count": 14,
     "metadata": {},
     "output_type": "execute_result"
    }
   ],
   "source": [
    "# dostęp do elementów tensora\n",
    "T[0][1][1]\n",
    "T[0, 1, 1]"
   ]
  },
  {
   "cell_type": "markdown",
   "metadata": {
    "id": "Txr5UN0jxYR9"
   },
   "source": [
    "# Generowanie liczb losowych"
   ]
  },
  {
   "cell_type": "markdown",
   "metadata": {
    "id": "qfvwRBQITFcG"
   },
   "source": [
    "### Arange"
   ]
  },
  {
   "cell_type": "code",
   "execution_count": 15,
   "metadata": {
    "colab": {
     "base_uri": "https://localhost:8080/"
    },
    "id": "HcXGz517THRQ",
    "outputId": "f95c5d39-be39-4665-e302-51d85c3dd5f7"
   },
   "outputs": [
    {
     "data": {
      "text/plain": [
       "array([-1.1,  1. ,  3.1,  5.2,  7.3,  9.4])"
      ]
     },
     "execution_count": 15,
     "metadata": {},
     "output_type": "execute_result"
    }
   ],
   "source": [
    "np.arange(0, 10, 1.1)     # np.arange(od, do, krok)\n",
    "np.arange(-1.1, 10, 2.1)  # [-10; 10) - jako przedział od -1.1 domknięty (włącznie) do 10 otwarty (bez)"
   ]
  },
  {
   "cell_type": "markdown",
   "metadata": {
    "id": "baJ3hX-CTq30"
   },
   "source": [
    "### linspace"
   ]
  },
  {
   "cell_type": "code",
   "execution_count": 16,
   "metadata": {
    "colab": {
     "base_uri": "https://localhost:8080/"
    },
    "id": "gjCZ1FrvTZGS",
    "outputId": "1f7da809-5928-436d-b2c2-30402dc61d5c"
   },
   "outputs": [
    {
     "data": {
      "text/plain": [
       "array([-3.5       , -3.36097561, -3.22195122, -3.08292683, -2.94390244,\n",
       "       -2.80487805, -2.66585366, -2.52682927, -2.38780488, -2.24878049,\n",
       "       -2.1097561 , -1.97073171, -1.83170732, -1.69268293, -1.55365854,\n",
       "       -1.41463415, -1.27560976, -1.13658537, -0.99756098, -0.85853659,\n",
       "       -0.7195122 , -0.5804878 , -0.44146341, -0.30243902, -0.16341463,\n",
       "       -0.02439024,  0.11463415,  0.25365854,  0.39268293,  0.53170732,\n",
       "        0.67073171,  0.8097561 ,  0.94878049,  1.08780488,  1.22682927,\n",
       "        1.36585366,  1.50487805,  1.64390244,  1.78292683,  1.92195122,\n",
       "        2.06097561,  2.2       ])"
      ]
     },
     "execution_count": 16,
     "metadata": {},
     "output_type": "execute_result"
    }
   ],
   "source": [
    "np.linspace(0, 1, 100)      # np.linspace(od, do, ile_elementow) \n",
    "np.linspace(0, 1)           # domyślnie 50 elementów\n",
    "np.linspace(-3.5, 2.2, 42)  # [-3.5; 2.2) - jako przedział od -3.5 domknięty (włącznie) do 2.2 zamknięty (włącznie)"
   ]
  },
  {
   "cell_type": "markdown",
   "metadata": {
    "id": "gBNiKUntxbnX"
   },
   "source": [
    "### generowanie losowych macierzy o rokładzie normalnym"
   ]
  },
  {
   "cell_type": "code",
   "execution_count": 17,
   "metadata": {
    "colab": {
     "base_uri": "https://localhost:8080/"
    },
    "id": "vB8-hViWehc1",
    "outputId": "fb6fbf09-9184-440d-e0b2-569cae8b5996"
   },
   "outputs": [
    {
     "data": {
      "text/plain": [
       "array([[-1.06685301, -0.32441121,  0.35792147],\n",
       "       [ 0.78487925, -0.33138156, -0.09847261],\n",
       "       [-0.38836305, -0.35334732, -0.15301942],\n",
       "       [ 0.04289113, -0.74102909,  1.6364185 ],\n",
       "       [-0.19350933,  1.94032095, -1.82065354],\n",
       "       [ 1.35788551,  0.1822701 ,  0.17345472],\n",
       "       [-2.00786631, -1.14696345,  0.1542254 ]])"
      ]
     },
     "execution_count": 17,
     "metadata": {},
     "output_type": "execute_result"
    }
   ],
   "source": [
    "# generowanie losowych macierzy o rokładzie normalnym\n",
    "N = np.random.normal()\n",
    "# loc -> średnia, domyślnie 0; \n",
    "# scale -> odchylenie standardowe, domyślnie 1.0  \n",
    "# size=None -> rozmiar macierzy, domyślnie None, jeśli None to zwraca jedną liczbę\n",
    "N = np.random.normal(loc=0.0, scale=1.0, size=None)  \n",
    "N = np.random.normal(loc=1.3, scale=3.3, size=None)\n",
    "N = np.random.normal(size=10)\n",
    "N = np.random.normal(size=(7, 3))\n",
    "N"
   ]
  },
  {
   "cell_type": "markdown",
   "metadata": {
    "id": "5Kc187YMxfNt"
   },
   "source": [
    "### generowanie losowych macierzy o rokładzie normalnym N(0, 1)\n",
    "\n",
    "Rozkład normalny ze średnią 0 i odchylenie standardowym 1.0"
   ]
  },
  {
   "cell_type": "code",
   "execution_count": 18,
   "metadata": {
    "colab": {
     "base_uri": "https://localhost:8080/"
    },
    "id": "4d3ReCBjhc1g",
    "outputId": "913ee2c5-52d2-493a-d525-feee7d4b8a13"
   },
   "outputs": [
    {
     "data": {
      "text/plain": [
       "array([[[ 1.64477957e-01, -4.36582055e-01,  8.76640466e-01],\n",
       "        [-5.25228976e-01,  1.31532045e+00,  1.01956701e+00],\n",
       "        [-1.08734879e+00, -4.60947603e-01,  3.98979403e-01]],\n",
       "\n",
       "       [[-4.98113954e-03,  2.71225499e-01, -2.24559281e-01],\n",
       "        [ 3.08491834e-01,  8.79016866e-01,  4.36873687e-01],\n",
       "        [-1.44756936e+00,  1.86948370e-01, -7.94468514e-01]],\n",
       "\n",
       "       [[-1.58130583e-02, -1.12111440e+00,  3.54125475e-01],\n",
       "        [-9.03401200e-01, -3.52687195e-01, -3.94450387e-01],\n",
       "        [ 1.22703625e-01,  8.87287048e-01, -2.43772154e-03]],\n",
       "\n",
       "       [[-1.16361366e+00,  2.85009766e-01,  2.62254761e-01],\n",
       "        [ 1.01090878e+00,  1.65805994e+00,  5.09568459e-02],\n",
       "        [-9.77238596e-02, -1.40698371e+00,  4.52756624e-01]],\n",
       "\n",
       "       [[ 3.98351057e-01, -6.15569423e-01, -2.04659342e+00],\n",
       "        [ 1.09369270e+00, -8.44067392e-01,  1.59678141e-01],\n",
       "        [ 2.37657327e-01, -4.63821123e-01,  1.77799314e-01]],\n",
       "\n",
       "       [[-1.10785192e+00, -5.91408184e-03, -7.19045177e-01],\n",
       "        [ 2.73156463e+00,  2.47320003e-02, -1.84170669e+00],\n",
       "        [-3.74572513e-01,  2.19424551e+00, -4.60094648e-01]],\n",
       "\n",
       "       [[ 4.63790774e-01,  6.62585876e-01,  7.86409994e-01],\n",
       "        [-5.07067587e-01,  2.26801048e+00,  8.48683399e-01],\n",
       "        [-1.40402575e+00,  6.49994472e-01, -1.58847227e-01]]])"
      ]
     },
     "execution_count": 18,
     "metadata": {},
     "output_type": "execute_result"
    }
   ],
   "source": [
    "# generowanie losowych macierzy o rokładzie normalnym N(0, 1)\n",
    "S = np.random.randn()  # zwraca jedną liczbę z rozkładu N(0, 1)\n",
    "S = np.random.randn(7)  # zwraca wektor 7-elementowy z rozkładu N(0, 1)\n",
    "S = np.random.randn(7, 3)  # zwraca macierz (7 wierszy, 3 kolumny) z elementami z rozkładu N(0, 1)\n",
    "# S = np.random.randn((7, 3))  # TypeError: 'tuple' object cannot be interpreted as an integer\n",
    "S = np.random.randn(7, 3, 3) # zwraca tensor (7 macierzy po 3 wiersze i 3 kolumny) z elementami z rozkładu N(0, 1)\n",
    "S"
   ]
  },
  {
   "cell_type": "markdown",
   "metadata": {
    "id": "AHHZsf4txhqM",
    "tags": []
   },
   "source": [
    "### generowanie losowych macierzy o rozkładzie jednostajnym\n",
    "`np.random.uniform()`  [[doc](https://numpy.org/doc/stable/reference/random/generated/numpy.random.uniform.html)]"
   ]
  },
  {
   "cell_type": "code",
   "execution_count": 19,
   "metadata": {
    "colab": {
     "base_uri": "https://localhost:8080/"
    },
    "id": "pICMD5pre8Cy",
    "outputId": "a92b9665-e8fb-448a-fc8e-6f92eec0fbce"
   },
   "outputs": [
    {
     "data": {
      "text/plain": [
       "array([[[ 5.1767925 ,  6.89356074, -7.85514808],\n",
       "        [-0.19255518, -5.21207667,  7.95085671],\n",
       "        [-8.9247409 , -4.05080885,  1.62313505],\n",
       "        [ 2.23617009, -8.90042056, -0.63030537],\n",
       "        [-6.57538397, -8.65179082, -6.96713596],\n",
       "        [-5.36158059, -5.55115802,  5.60994168],\n",
       "        [-6.44639545, -0.98937848,  5.94070204]],\n",
       "\n",
       "       [[-2.55896955, -8.24896863,  1.81768311],\n",
       "        [ 2.15983761,  4.22791209,  3.2001383 ],\n",
       "        [ 3.98604292, -2.68253072,  8.60617031],\n",
       "        [-5.45390879, -1.70868136, -6.13798636],\n",
       "        [ 2.35196784,  4.38991617,  1.15826016],\n",
       "        [-3.51151917, -3.71121387, -2.03847356],\n",
       "        [-7.85878246,  1.20556267, -4.87034229]],\n",
       "\n",
       "       [[ 8.95407499,  3.78165251, -6.34468761],\n",
       "        [ 4.20469955,  6.40862126, -4.39192467],\n",
       "        [ 4.5265501 ,  8.93447127,  4.9841414 ],\n",
       "        [ 2.52969539, -8.29943462, -1.88166147],\n",
       "        [-2.12081832, -7.58538135,  0.96955357],\n",
       "        [-9.28439482, -5.17099757,  0.94246811],\n",
       "        [ 4.40608614,  4.87628937,  6.75250016]],\n",
       "\n",
       "       [[ 3.51758103, -4.52384475,  3.27146453],\n",
       "        [-3.93636785,  6.05052373,  4.79258939],\n",
       "        [-0.66292602,  5.34728589,  6.54336446],\n",
       "        [-3.88133561, -7.63499257, -4.94524894],\n",
       "        [-9.02787608,  3.12147586, -8.31169732],\n",
       "        [-2.48153339, -7.67496434, -3.70481366],\n",
       "        [-4.28633372,  6.51092528,  6.14835488]]])"
      ]
     },
     "execution_count": 19,
     "metadata": {},
     "output_type": "execute_result"
    }
   ],
   "source": [
    "# generowanie losowych macierzy o rozkładzie jednostajnym\n",
    "U = np.random.uniform()  # zwraca jedną liczbę z rozkłądu jednostajengo U(0, 1)\n",
    "U = np.random.uniform(low=0.0, high=1.0, size=None)  # zwraca jedną liczbę z rozkładu jednostajengo U(0, 1)\n",
    "U = np.random.uniform(low=-10, high=10, size=10)   # zwraca wektor 10-elementowy z rozkładu jednostajengo U(-10, 10)\n",
    "U = np.random.uniform(low=-9.5, high=9, size=(7, 3))  # zwraca macierz (7-wierszy, 3-kolumy) z rozkładu jednostajnego U(-9.5, 9)\n",
    "U = np.random.uniform(low=-9.5, high=9, size=(4, 7, 3))  # zwraca tensor (4-macierze - 7-wierszy, 3-kolumy) z rozkładu jednostajnego U(-9.5, 9)\n",
    "U "
   ]
  },
  {
   "cell_type": "markdown",
   "metadata": {
    "id": "_jO4ST6zxmWC"
   },
   "source": [
    "### generowanie losowych macierzy o rozkładzie jednostajnym z przedziału [0; 1)\n",
    "`np.random.random()`[[doc](https://numpy.org/doc/stable/reference/random/generated/numpy.random.random.html)]"
   ]
  },
  {
   "cell_type": "code",
   "execution_count": 20,
   "metadata": {
    "colab": {
     "base_uri": "https://localhost:8080/"
    },
    "id": "UL9OPBCTg9Ub",
    "outputId": "b69ce5de-cce8-449e-8f55-cb08e4c26770"
   },
   "outputs": [
    {
     "data": {
      "text/plain": [
       "array([[[0.8134682 , 0.37131315, 0.56888957],\n",
       "        [0.8745983 , 0.67688002, 0.90739146],\n",
       "        [0.04529588, 0.94448923, 0.05797114],\n",
       "        [0.0404778 , 0.16645903, 0.79616394],\n",
       "        [0.51586146, 0.32073967, 0.77989641],\n",
       "        [0.99766318, 0.38438663, 0.64453473],\n",
       "        [0.94630441, 0.48639085, 0.13208155]],\n",
       "\n",
       "       [[0.93402193, 0.60779743, 0.46223096],\n",
       "        [0.54475091, 0.91650007, 0.30672593],\n",
       "        [0.94120539, 0.38173492, 0.62435309],\n",
       "        [0.15706189, 0.92028901, 0.87030595],\n",
       "        [0.3587619 , 0.46123938, 0.47823269],\n",
       "        [0.39297235, 0.12800582, 0.87490801],\n",
       "        [0.35776728, 0.28214663, 0.87830844]],\n",
       "\n",
       "       [[0.15356821, 0.49298912, 0.85388122],\n",
       "        [0.47397862, 0.97005073, 0.6241275 ],\n",
       "        [0.06376659, 0.30501555, 0.67416046],\n",
       "        [0.37483435, 0.48201086, 0.11228807],\n",
       "        [0.02699639, 0.10010139, 0.72962409],\n",
       "        [0.70733126, 0.54828387, 0.56500743],\n",
       "        [0.9571758 , 0.93545335, 0.51728904]],\n",
       "\n",
       "       [[0.49020596, 0.53363272, 0.47456178],\n",
       "        [0.13414041, 0.42291101, 0.82627731],\n",
       "        [0.4766143 , 0.48562618, 0.59167043],\n",
       "        [0.60632604, 0.86422745, 0.01845403],\n",
       "        [0.14581033, 0.26990212, 0.11626454],\n",
       "        [0.43692432, 0.84753456, 0.87155489],\n",
       "        [0.27999229, 0.85905835, 0.26681652]]])"
      ]
     },
     "execution_count": 20,
     "metadata": {},
     "output_type": "execute_result"
    }
   ],
   "source": [
    "# generowanie losowych macierzy o rozkładzie jednostajnym z przedziału [0; 1)\n",
    "R = np.random.random()  # zwraca jedną liczbę z rozkładu jednostajengo U(0, 1)\n",
    "R = np.random.random(size=10)  # zwraca wektor 10-elementowy z liczbami z rozkładu jednostajengo U(0, 1)\n",
    "R = np.random.random((7, 3))  # zwraca macierz (7-wierszy, 3-kolumny) z liczbami z rozkładu jednostajengo U(0, 1)\n",
    "R = np.random.random((4, 7, 3))  # zwraca tensor (4-macierze, 7-wierszy, 3-kolumny) z liczbami z rozkładu jednostajengo U(0, 1)\n",
    "R"
   ]
  },
  {
   "cell_type": "markdown",
   "metadata": {
    "id": "1_smZXMxxpns"
   },
   "source": [
    "### generowanie losowych macierzy liczb czałkowitych o rozkładzie jednostajnym "
   ]
  },
  {
   "cell_type": "code",
   "execution_count": 21,
   "metadata": {
    "colab": {
     "base_uri": "https://localhost:8080/"
    },
    "id": "qxx4Auktfo2s",
    "outputId": "2ca81d10-c7bf-425e-f52d-e48c3aeb65ef"
   },
   "outputs": [
    {
     "data": {
      "text/plain": [
       "array([[10,  8,  5],\n",
       "       [ 5, 10,  7],\n",
       "       [ 4,  6,  7],\n",
       "       [ 4,  5,  7],\n",
       "       [11,  6,  7],\n",
       "       [10,  7, 11],\n",
       "       [ 8,  8,  8]])"
      ]
     },
     "execution_count": 21,
     "metadata": {},
     "output_type": "execute_result"
    }
   ],
   "source": [
    "# generowanie losowych macierzy liczb czałkowitych o rozkładzie jednostajnym \n",
    "I = np.random.randint(10)  # jedna liczba z przedziału [0; 10)\n",
    "I = np.random.randint(low=10, high=12)  # np.random.randint(10, 12)\n",
    "I = np.random.randint(10, 12)\n",
    "I = np.random.randint(1, 12, size=10)\n",
    "I = np.random.randint(1, 12, size=(7, 3))\n",
    "I"
   ]
  },
  {
   "cell_type": "markdown",
   "metadata": {
    "id": "NL-JR_zMxre3"
   },
   "source": [
    "# Dostęp do elementów macierzy"
   ]
  },
  {
   "cell_type": "code",
   "execution_count": 22,
   "metadata": {
    "colab": {
     "base_uri": "https://localhost:8080/"
    },
    "id": "GIvsj3I3gKo4",
    "outputId": "4099756b-0233-4c3f-f849-d931d3ea161a"
   },
   "outputs": [
    {
     "data": {
      "text/plain": [
       "array([[ 0.91,  1.09,  1.19,  0.92, -1.26, -1.51, -2.97],\n",
       "       [-1.38,  1.3 , -0.36,  1.29, -0.05,  0.51, -1.3 ],\n",
       "       [ 2.  ,  0.63,  0.15,  0.73, -1.31,  0.71,  0.18],\n",
       "       [ 0.18, -0.49,  0.18, -1.09, -0.6 , -0.43,  0.15],\n",
       "       [-0.66,  1.08,  0.09,  0.36, -0.28, -1.68, -0.98],\n",
       "       [ 0.49, -0.6 ,  0.62, -0.16,  0.9 , -2.04, -0.1 ],\n",
       "       [-0.04,  0.23, -0.44,  0.95, -2.58,  2.  ,  1.25]])"
      ]
     },
     "execution_count": 22,
     "metadata": {},
     "output_type": "execute_result"
    }
   ],
   "source": [
    "X = np.random.randn(7, 7)\n",
    "X = np.round(X, 2)\n",
    "X"
   ]
  },
  {
   "cell_type": "markdown",
   "metadata": {
    "id": "chZ5Z07x_y9t"
   },
   "source": [
    "### Index"
   ]
  },
  {
   "cell_type": "code",
   "execution_count": 23,
   "metadata": {
    "colab": {
     "base_uri": "https://localhost:8080/"
    },
    "id": "fuUmjoOtiXc6",
    "outputId": "df8a5996-0398-4e95-abcc-46bdd7d21ed7"
   },
   "outputs": [
    {
     "data": {
      "text/plain": [
       "array([[ 0.18, -0.49,  0.18, -1.09, -0.6 , -0.43,  0.15],\n",
       "       [-1.38,  1.3 , -0.36,  1.29, -0.05,  0.51, -1.3 ],\n",
       "       [ 0.91,  1.09,  1.19,  0.92, -1.26, -1.51, -2.97],\n",
       "       [ 0.18, -0.49,  0.18, -1.09, -0.6 , -0.43,  0.15],\n",
       "       [ 0.18, -0.49,  0.18, -1.09, -0.6 , -0.43,  0.15]])"
      ]
     },
     "execution_count": 23,
     "metadata": {},
     "output_type": "execute_result"
    }
   ],
   "source": [
    "# Index\n",
    "X[0]\n",
    "X[0, 1]\n",
    "X[:, 4]\n",
    "X[1, :]\n",
    "X[1:3]\n",
    "X[1:3, 0:4]\n",
    "# X[1:10]  !!!!\n",
    "X[-1]\n",
    "X[-2]\n",
    "X[4:-1, 2:-1]\n",
    "X[-3:-1, -4:-1]\n",
    "# X[[1, 3], ]  X[[1, 3], [2, 4]]  # uwaga\n",
    "X[::-1]\n",
    "X[[3, 1, 0, 3, 3]]"
   ]
  },
  {
   "cell_type": "code",
   "execution_count": 24,
   "metadata": {
    "colab": {
     "base_uri": "https://localhost:8080/"
    },
    "id": "pOOZQWmw_7y-",
    "outputId": "b0a3cad1-fa94-4261-9179-f6a465195496"
   },
   "outputs": [
    {
     "name": "stdout",
     "output_type": "stream",
     "text": [
      "[[ 0.91  1.09  1.19  0.92 -1.26 -1.51 -2.97]\n",
      " [-1.38  1.3  -0.36  1.29 -0.05  0.51 -1.3 ]\n",
      " [ 2.    0.63  0.15  0.73 -1.31  0.71  0.18]\n",
      " [ 0.18 -0.49  0.18 -1.09 -0.6  -0.43  0.15]\n",
      " [-0.66  1.08  0.09  0.36 -0.28 -1.68 -0.98]\n",
      " [ 0.49 -0.6   0.62 -0.16  0.9  -2.04 -0.1 ]\n",
      " [-0.04  0.23 -0.44  0.95 -2.58  2.    1.25]]\n",
      "\n",
      "[[-0.04  0.23 -0.44  0.95 -2.58  2.    1.25]\n",
      " [ 0.49 -0.6   0.62 -0.16  0.9  -2.04 -0.1 ]\n",
      " [-0.66  1.08  0.09  0.36 -0.28 -1.68 -0.98]\n",
      " [ 0.18 -0.49  0.18 -1.09 -0.6  -0.43  0.15]\n",
      " [ 2.    0.63  0.15  0.73 -1.31  0.71  0.18]\n",
      " [-1.38  1.3  -0.36  1.29 -0.05  0.51 -1.3 ]\n",
      " [ 0.91  1.09  1.19  0.92 -1.26 -1.51 -2.97]]\n",
      "\n",
      "[[ 1.25  2.   -2.58  0.95 -0.44  0.23 -0.04]\n",
      " [-0.1  -2.04  0.9  -0.16  0.62 -0.6   0.49]\n",
      " [-0.98 -1.68 -0.28  0.36  0.09  1.08 -0.66]\n",
      " [ 0.15 -0.43 -0.6  -1.09  0.18 -0.49  0.18]\n",
      " [ 0.18  0.71 -1.31  0.73  0.15  0.63  2.  ]\n",
      " [-1.3   0.51 -0.05  1.29 -0.36  1.3  -1.38]\n",
      " [-2.97 -1.51 -1.26  0.92  1.19  1.09  0.91]]\n"
     ]
    }
   ],
   "source": [
    "print(X)\n",
    "print()\n",
    "print(X[::-1])\n",
    "print()\n",
    "print(X[::-1, ::-1])"
   ]
  },
  {
   "cell_type": "code",
   "execution_count": 25,
   "metadata": {
    "colab": {
     "base_uri": "https://localhost:8080/"
    },
    "id": "o8eHzkfPAAHo",
    "outputId": "5502b447-d513-4bb2-ada1-8876e7d08f8e"
   },
   "outputs": [
    {
     "name": "stdout",
     "output_type": "stream",
     "text": [
      "[-1.38  1.3  -0.36  1.29 -0.05  0.51 -1.3 ]\n",
      "[-1.3   0.51 -0.05  1.29 -0.36  1.3  -1.38]\n"
     ]
    }
   ],
   "source": [
    "V = X[1]\n",
    "print(V)\n",
    "print(V[::-1])"
   ]
  },
  {
   "cell_type": "markdown",
   "metadata": {
    "id": "v6Q4-357yE7D"
   },
   "source": [
    "### Index warunkowy"
   ]
  },
  {
   "cell_type": "code",
   "execution_count": 26,
   "metadata": {
    "colab": {
     "base_uri": "https://localhost:8080/"
    },
    "id": "SSshHo-uii7f",
    "outputId": "2fc78526-b7f8-417f-9961-34e8571d65b8"
   },
   "outputs": [
    {
     "data": {
      "text/plain": [
       "array([46, 97, 44, 67, 89, 35, 31, 60, 65, 88, 56, 30, 37, 91, 74, 95, 21,\n",
       "       31, 15, 19])"
      ]
     },
     "execution_count": 26,
     "metadata": {},
     "output_type": "execute_result"
    }
   ],
   "source": [
    "wynik = np.random.randint(10, 100, size=20)\n",
    "wynik"
   ]
  },
  {
   "cell_type": "code",
   "execution_count": 27,
   "metadata": {
    "colab": {
     "base_uri": "https://localhost:8080/"
    },
    "id": "fYoc_gwwAPAh",
    "outputId": "77dad2fa-790e-4ad2-c38e-4142a341b0d1"
   },
   "outputs": [
    {
     "data": {
      "text/plain": [
       "array([97, 67, 89, 60, 65, 88, 56, 91, 74, 95])"
      ]
     },
     "execution_count": 27,
     "metadata": {},
     "output_type": "execute_result"
    }
   ],
   "source": [
    "wynik[wynik>50]"
   ]
  },
  {
   "cell_type": "code",
   "execution_count": 28,
   "metadata": {
    "colab": {
     "base_uri": "https://localhost:8080/"
    },
    "id": "-Sv92ZKLAKOz",
    "outputId": "284520c5-1e8b-4541-8c7f-84ee0618e054"
   },
   "outputs": [
    {
     "data": {
      "text/plain": [
       "array([False,  True, False,  True,  True, False, False,  True,  True,\n",
       "        True,  True, False, False,  True,  True,  True, False, False,\n",
       "       False, False])"
      ]
     },
     "execution_count": 28,
     "metadata": {},
     "output_type": "execute_result"
    }
   ],
   "source": [
    "w = wynik > 50\n",
    "w"
   ]
  },
  {
   "cell_type": "code",
   "execution_count": 29,
   "metadata": {
    "colab": {
     "base_uri": "https://localhost:8080/"
    },
    "id": "K8nHCzAkjY_S",
    "outputId": "3e3dd528-b2ca-4f16-c9dd-12119e5967d8"
   },
   "outputs": [
    {
     "name": "stdout",
     "output_type": "stream",
     "text": [
      "[97 67 89 60 65 88 56 91 74 95]\n",
      "[46 44 35 31 30 37 21 31 15 19]\n"
     ]
    }
   ],
   "source": [
    "print(wynik[w])\n",
    "print(wynik[~w])  # zaprzeczenie w (~ tylda)\n"
   ]
  },
  {
   "cell_type": "markdown",
   "metadata": {
    "id": "fbCUmN8tAhQB"
   },
   "source": [
    "### funkcja `np.where()`\n"
   ]
  },
  {
   "cell_type": "code",
   "execution_count": 30,
   "metadata": {
    "colab": {
     "base_uri": "https://localhost:8080/"
    },
    "id": "czLtEcJOjo0A",
    "outputId": "95f2d3bf-8ba0-4b15-d115-29730f305189"
   },
   "outputs": [
    {
     "name": "stdout",
     "output_type": "stream",
     "text": [
      "(array([ 1,  3,  4,  7,  8,  9, 10, 13, 14, 15]),)\n"
     ]
    },
    {
     "data": {
      "text/plain": [
       "array([97, 67, 89, 60, 65, 88, 56, 91, 74, 95])"
      ]
     },
     "execution_count": 30,
     "metadata": {},
     "output_type": "execute_result"
    }
   ],
   "source": [
    "idx = np.where(w)  # np.where(wynik>50)\n",
    "print(idx)\n",
    "wynik[idx]  # wynik[[0, 2, 3... ]]"
   ]
  },
  {
   "cell_type": "code",
   "execution_count": 31,
   "metadata": {
    "colab": {
     "base_uri": "https://localhost:8080/"
    },
    "id": "MbSysKTRAt5W",
    "outputId": "ac2d7687-923a-4c60-a0fc-09f5a91861b5"
   },
   "outputs": [
    {
     "name": "stdout",
     "output_type": "stream",
     "text": [
      "[0 1 0 1 1 0 0 1 1 1 1 0 0 1 1 1 0 0 0 0]\n",
      "[-46  97 -44  67  89 -35 -31  60  65  88  56 -30 -37  91  74  95 -21 -31\n",
      " -15 -19]\n"
     ]
    }
   ],
   "source": [
    "print(np.where(w, 1, 0))\n",
    "print(np.where(w, wynik, -wynik))"
   ]
  },
  {
   "cell_type": "code",
   "execution_count": 32,
   "metadata": {
    "colab": {
     "base_uri": "https://localhost:8080/"
    },
    "id": "znGgXd8TkXH_",
    "outputId": "15dede7f-e1ac-4bec-9943-c446460f34b2"
   },
   "outputs": [
    {
     "data": {
      "text/plain": [
       "array([2116.        ,    9.8488578 , 1936.        ,    8.18535277,\n",
       "          9.43398113, 1225.        ,  961.        ,    7.74596669,\n",
       "          8.06225775,    9.38083152,    7.48331477,  900.        ,\n",
       "       1369.        ,    9.53939201,    8.60232527,    9.74679434,\n",
       "        441.        ,  961.        ,  225.        ,  361.        ])"
      ]
     },
     "execution_count": 32,
     "metadata": {},
     "output_type": "execute_result"
    }
   ],
   "source": [
    "np.where(wynik>50, np.sqrt(wynik), wynik ** 2)"
   ]
  },
  {
   "cell_type": "markdown",
   "metadata": {
    "id": "IyKbVJr7yKyY"
   },
   "source": [
    "# Operacje na macierzach"
   ]
  },
  {
   "cell_type": "code",
   "execution_count": 33,
   "metadata": {
    "colab": {
     "base_uri": "https://localhost:8080/"
    },
    "id": "S__LVXUcktPe",
    "outputId": "643f87f1-fee4-4d6c-fc37-1c6271916975"
   },
   "outputs": [
    {
     "name": "stdout",
     "output_type": "stream",
     "text": [
      "[[0 1 0 6]\n",
      " [4 3 3 0]\n",
      " [2 1 6 3]]\n",
      "\n",
      "[[6 9 8 0]\n",
      " [2 5 9 0]\n",
      " [3 0 1 0]]\n"
     ]
    }
   ],
   "source": [
    "X = np.random.randint(0, 10, size=(3, 4))\n",
    "Y = np.random.randint(0, 10, size=(3, 4))\n",
    "print(X)\n",
    "print()\n",
    "print(Y)"
   ]
  },
  {
   "cell_type": "markdown",
   "metadata": {
    "id": "9OA1d5qzSQaG"
   },
   "source": [
    "### Dodawanie / odejmowanie"
   ]
  },
  {
   "cell_type": "code",
   "execution_count": 34,
   "metadata": {
    "colab": {
     "base_uri": "https://localhost:8080/"
    },
    "id": "5s_7x5IhA8nE",
    "outputId": "1c0a35eb-e9f5-4b16-bddb-1f39617a7c34"
   },
   "outputs": [
    {
     "data": {
      "text/plain": [
       "array([[ 2.71,  1.71,  2.71, -3.29],\n",
       "       [-1.29, -0.29, -0.29,  2.71],\n",
       "       [ 0.71,  1.71, -3.29, -0.29]])"
      ]
     },
     "execution_count": 34,
     "metadata": {},
     "output_type": "execute_result"
    }
   ],
   "source": [
    "X + 3.14 \n",
    "3.14 + X\n",
    "X - 2.71\n",
    "2.71 - X"
   ]
  },
  {
   "cell_type": "code",
   "execution_count": 35,
   "metadata": {
    "colab": {
     "base_uri": "https://localhost:8080/"
    },
    "id": "cJT5les-BC48",
    "outputId": "115d69c0-194b-40bc-ad63-5dda1aec2395"
   },
   "outputs": [
    {
     "data": {
      "text/plain": [
       "array([[-6, -8, -8,  6],\n",
       "       [ 2, -2, -6,  0],\n",
       "       [-1,  1,  5,  3]])"
      ]
     },
     "execution_count": 35,
     "metadata": {},
     "output_type": "execute_result"
    }
   ],
   "source": [
    "X + Y\n",
    "np.add(X, Y)\n",
    "# X + Y[0:2]  # ValueError: operands could not be broadcast together with shapes (3,4) (2,4) \n",
    "X - Y\n",
    "np.subtract(X, Y)"
   ]
  },
  {
   "cell_type": "markdown",
   "metadata": {
    "id": "clJaYoSwSUXA"
   },
   "source": [
    "### Mnożenie"
   ]
  },
  {
   "cell_type": "code",
   "execution_count": 36,
   "metadata": {
    "colab": {
     "base_uri": "https://localhost:8080/"
    },
    "id": "GIR-IMPToBTy",
    "outputId": "0bfaab40-4c15-46b1-cdff-cee09828ca9b"
   },
   "outputs": [
    {
     "data": {
      "text/plain": [
       "array([[ 0,  9,  0,  0],\n",
       "       [ 8, 15, 27,  0],\n",
       "       [ 6,  0,  6,  0]])"
      ]
     },
     "execution_count": 36,
     "metadata": {},
     "output_type": "execute_result"
    }
   ],
   "source": [
    "10 * X\n",
    "X * 10\n",
    "X * Y\n",
    "Y * X"
   ]
  },
  {
   "cell_type": "code",
   "execution_count": 37,
   "metadata": {
    "colab": {
     "base_uri": "https://localhost:8080/"
    },
    "id": "ULPNDrPVBTcR",
    "outputId": "b2bddf9d-8688-4b29-bccf-2a906b3b81f8"
   },
   "outputs": [
    {
     "name": "stdout",
     "output_type": "stream",
     "text": [
      "[[0 1 0 6]\n",
      " [4 3 3 0]\n",
      " [2 1 6 3]]\n",
      "\n",
      "[[6 9 8 0]\n",
      " [2 5 9 0]\n",
      " [3 0 1 0]]\n"
     ]
    }
   ],
   "source": [
    "# mnożenie \"algebraiczne\"\n",
    "print(X)\n",
    "print()\n",
    "print(Y)\n",
    "\n",
    "# X.dot(Y)  # ValueError: shapes (3,4) and (3,4) not aligned: 4 (dim 1) != 3 (dim 0)"
   ]
  },
  {
   "cell_type": "markdown",
   "metadata": {
    "id": "6a6PShIgBcGW"
   },
   "source": [
    "##### Transpozycja"
   ]
  },
  {
   "cell_type": "code",
   "execution_count": 38,
   "metadata": {
    "colab": {
     "base_uri": "https://localhost:8080/"
    },
    "id": "IpzYvnnVShGz",
    "outputId": "61f6d479-3732-4508-dd53-50760a464347"
   },
   "outputs": [
    {
     "name": "stdout",
     "output_type": "stream",
     "text": [
      "[[0 1 0 6]\n",
      " [4 3 3 0]\n",
      " [2 1 6 3]]\n"
     ]
    },
    {
     "data": {
      "text/plain": [
       "array([[14, 20, 38,  0],\n",
       "       [15, 24, 36,  0],\n",
       "       [24, 15, 33,  0],\n",
       "       [45, 54, 51,  0]])"
      ]
     },
     "execution_count": 38,
     "metadata": {},
     "output_type": "execute_result"
    }
   ],
   "source": [
    "# Transpozycja\n",
    "print(X)\n",
    "X.T.dot(Y)"
   ]
  },
  {
   "cell_type": "code",
   "execution_count": 39,
   "metadata": {
    "colab": {
     "base_uri": "https://localhost:8080/"
    },
    "id": "Uk25FyzKBe3h",
    "outputId": "2eb405c0-4a92-4cb7-c48f-924598283cca"
   },
   "outputs": [
    {
     "data": {
      "text/plain": [
       "array([[ 9,  5,  0],\n",
       "       [75, 50, 15],\n",
       "       [69, 63, 12]])"
      ]
     },
     "execution_count": 39,
     "metadata": {},
     "output_type": "execute_result"
    }
   ],
   "source": [
    "X.dot(Y.T)"
   ]
  },
  {
   "cell_type": "code",
   "execution_count": 40,
   "metadata": {
    "colab": {
     "base_uri": "https://localhost:8080/"
    },
    "id": "U1tDci_UBhUA",
    "outputId": "0648ce80-cfe3-4b7b-811f-f424a85cbb0e"
   },
   "outputs": [
    {
     "name": "stdout",
     "output_type": "stream",
     "text": [
      "[[0 1 0 6]\n",
      " [4 3 3 0]\n",
      " [2 1 6 3]]\n",
      "\n",
      "[[6 2 3]\n",
      " [9 5 0]\n",
      " [8 9 1]\n",
      " [0 0 0]]\n"
     ]
    }
   ],
   "source": [
    "# mnożenie macierzy nie jest przemienne\n",
    "print(X)\n",
    "Z = Y.T\n",
    "print()\n",
    "print(Z)"
   ]
  },
  {
   "cell_type": "code",
   "execution_count": 41,
   "metadata": {
    "colab": {
     "base_uri": "https://localhost:8080/"
    },
    "id": "bzJDUEbtBpg9",
    "outputId": "fef34b97-1aa7-4830-a4c4-3beaae856449"
   },
   "outputs": [
    {
     "name": "stdout",
     "output_type": "stream",
     "text": [
      "[[ 9  5  0]\n",
      " [75 50 15]\n",
      " [69 63 12]]\n",
      "\n",
      "[[14 15 24 45]\n",
      " [20 24 15 54]\n",
      " [38 36 33 51]\n",
      " [ 0  0  0  0]]\n"
     ]
    }
   ],
   "source": [
    "print(X.dot(Z))\n",
    "print()\n",
    "print(Z.dot(X))"
   ]
  },
  {
   "cell_type": "markdown",
   "metadata": {
    "id": "0lvTEbW7SZoB"
   },
   "source": [
    "### Macierz odwrotna\n",
    "\n",
    "Macierz odwrotna do macierzy `A`, jest to taka macierz `B`, że po pomnożeniu macierzy `A`. przez macierz `B` dostaniemy element neutralny, czyli macierz `I` z `1` na przekątnej (diabonali) i `0`."
   ]
  },
  {
   "cell_type": "code",
   "execution_count": 42,
   "metadata": {
    "colab": {
     "base_uri": "https://localhost:8080/"
    },
    "id": "_3rk8cttopUG",
    "outputId": "d9111f08-e47b-443b-d7cb-70b0c3e5c01c"
   },
   "outputs": [
    {
     "data": {
      "text/plain": [
       "array([[ 0.18181818,  0.06818182, -0.11363636],\n",
       "       [-0.18181818, -0.81818182,  0.36363636],\n",
       "       [ 0.09090909,  0.90909091, -0.18181818]])"
      ]
     },
     "execution_count": 42,
     "metadata": {},
     "output_type": "execute_result"
    }
   ],
   "source": [
    "A2d = np.random.randint(0, 10, size=(3, 3))\n",
    "A2d_odwrotna = np.linalg.inv(A2d)\n",
    "A2d_odwrotna"
   ]
  },
  {
   "cell_type": "code",
   "execution_count": 43,
   "metadata": {
    "colab": {
     "base_uri": "https://localhost:8080/"
    },
    "id": "sUdw--81B3EO",
    "outputId": "44e7050e-fd95-4496-b4c8-ff7a208c1665"
   },
   "outputs": [
    {
     "name": "stdout",
     "output_type": "stream",
     "text": [
      "[[ 1.  0. -0.]\n",
      " [-0.  1.  0.]\n",
      " [-0. -0.  1.]]\n",
      "\n",
      "[[ 1. -0. -0.]\n",
      " [ 0.  1.  0.]\n",
      " [ 0. -0.  1.]]\n"
     ]
    }
   ],
   "source": [
    "print(np.round(A2d.dot(A2d_odwrotna)))\n",
    "print()\n",
    "print(np.round(A2d_odwrotna.dot(A2d)))"
   ]
  },
  {
   "cell_type": "markdown",
   "metadata": {
    "id": "SbfsFB5pSuKS"
   },
   "source": [
    "### Przekątna/Diagonala"
   ]
  },
  {
   "cell_type": "code",
   "execution_count": 44,
   "metadata": {
    "colab": {
     "base_uri": "https://localhost:8080/"
    },
    "id": "i7S3ZPrrStur",
    "outputId": "8610b5b9-5b4a-4a74-8326-a6b15c3008bd"
   },
   "outputs": [
    {
     "data": {
      "text/plain": [
       "array([8, 1, 6])"
      ]
     },
     "execution_count": 44,
     "metadata": {},
     "output_type": "execute_result"
    }
   ],
   "source": [
    "A2d.diagonal()"
   ]
  },
  {
   "cell_type": "code",
   "execution_count": 45,
   "metadata": {
    "colab": {
     "base_uri": "https://localhost:8080/"
    },
    "id": "lxzdXPJ3EV3W",
    "outputId": "48926767-f8b8-4c33-c998-c6e004ed5659"
   },
   "outputs": [
    {
     "data": {
      "text/plain": [
       "15"
      ]
     },
     "execution_count": 45,
     "metadata": {},
     "output_type": "execute_result"
    }
   ],
   "source": [
    "# ślad macierzy\n",
    "A2d.diagonal().sum()"
   ]
  },
  {
   "cell_type": "markdown",
   "metadata": {
    "id": "VrUebu_zyQ4v"
   },
   "source": [
    "# zmina kształtu macierzy"
   ]
  },
  {
   "cell_type": "code",
   "execution_count": 46,
   "metadata": {
    "colab": {
     "base_uri": "https://localhost:8080/"
    },
    "id": "NxrXAizNpDbc",
    "outputId": "807b919c-3a40-4d9e-8354-3dc221a68ea6"
   },
   "outputs": [
    {
     "data": {
      "text/plain": [
       "array([  7,   6,   5,  -7,  -4,   8,  -5,  -4, -10,   9,   8,   8,   6,\n",
       "         2,  -2,   1,  -5,   3,  -5,  -2,  -4,   8,  -2, -10])"
      ]
     },
     "execution_count": 46,
     "metadata": {},
     "output_type": "execute_result"
    }
   ],
   "source": [
    "C = np.random.randint(-10, 10, 24)\n",
    "C"
   ]
  },
  {
   "cell_type": "code",
   "execution_count": 47,
   "metadata": {
    "colab": {
     "base_uri": "https://localhost:8080/"
    },
    "id": "EPfHVY1opS0s",
    "outputId": "6c90964c-2ac1-4678-9f8f-73263f422305"
   },
   "outputs": [
    {
     "name": "stdout",
     "output_type": "stream",
     "text": [
      "Warunek True\n"
     ]
    },
    {
     "data": {
      "text/plain": [
       "array([[[[  7,   6],\n",
       "         [  5,  -7]],\n",
       "\n",
       "        [[ -4,   8],\n",
       "         [ -5,  -4]]],\n",
       "\n",
       "\n",
       "       [[[-10,   9],\n",
       "         [  8,   8]],\n",
       "\n",
       "        [[  6,   2],\n",
       "         [ -2,   1]]],\n",
       "\n",
       "\n",
       "       [[[ -5,   3],\n",
       "         [ -5,  -2]],\n",
       "\n",
       "        [[ -4,   8],\n",
       "         [ -2, -10]]]])"
      ]
     },
     "execution_count": 47,
     "metadata": {},
     "output_type": "execute_result"
    }
   ],
   "source": [
    "C.reshape(6, 4)\n",
    "C.reshape(4, 6)\n",
    "# C.reshape(5, 2)  ValueError: cannot reshape array of size 24 into shape (5,2)\n",
    "print(f\"Warunek {sum(C.shape) == C.size}\")\n",
    "C.reshape(3, 2, 2, 2)"
   ]
  },
  {
   "cell_type": "code",
   "execution_count": 48,
   "metadata": {
    "colab": {
     "base_uri": "https://localhost:8080/"
    },
    "id": "g059V3LoE5dH",
    "outputId": "cc89623a-4140-4c1c-e40b-b2861b020bb3"
   },
   "outputs": [
    {
     "data": {
      "text/plain": [
       "array([[  7,   6,   5,  -7,  -4,   8],\n",
       "       [ -5,  -4, -10,   9,   8,   8],\n",
       "       [  6,   2,  -2,   1,  -5,   3],\n",
       "       [ -5,  -2,  -4,   8,  -2, -10]])"
      ]
     },
     "execution_count": 48,
     "metadata": {},
     "output_type": "execute_result"
    }
   ],
   "source": [
    "C.reshape(6, -1)\n",
    "C.reshape(-1, 6)"
   ]
  },
  {
   "cell_type": "code",
   "execution_count": 49,
   "metadata": {
    "colab": {
     "base_uri": "https://localhost:8080/"
    },
    "id": "BIKZrBpyEhLq",
    "outputId": "486b23b4-fd82-4cce-b896-4317a40dd98f"
   },
   "outputs": [
    {
     "data": {
      "text/plain": [
       "array([[  7],\n",
       "       [  6],\n",
       "       [  5],\n",
       "       [ -7],\n",
       "       [ -4],\n",
       "       [  8],\n",
       "       [ -5],\n",
       "       [ -4],\n",
       "       [-10],\n",
       "       [  9],\n",
       "       [  8],\n",
       "       [  8],\n",
       "       [  6],\n",
       "       [  2],\n",
       "       [ -2],\n",
       "       [  1],\n",
       "       [ -5],\n",
       "       [  3],\n",
       "       [ -5],\n",
       "       [ -2],\n",
       "       [ -4],\n",
       "       [  8],\n",
       "       [ -2],\n",
       "       [-10]])"
      ]
     },
     "execution_count": 49,
     "metadata": {},
     "output_type": "execute_result"
    }
   ],
   "source": [
    "C.reshape(4, -1)\n",
    "C.reshape(-1, 4)\n",
    "C.reshape(-1, 12)\n",
    "C.reshape(-1, 1)"
   ]
  },
  {
   "cell_type": "code",
   "execution_count": 50,
   "metadata": {
    "colab": {
     "base_uri": "https://localhost:8080/"
    },
    "id": "qpmG8weQqMcW",
    "outputId": "d4fbb8cc-7149-4a06-d9ba-f2619fb5171e"
   },
   "outputs": [
    {
     "name": "stdout",
     "output_type": "stream",
     "text": [
      "[  7   6   5  -7  -4   8  -5  -4 -10   9   8   8   6   2  -2   1  -5   3\n",
      "  -5  -2  -4   8  -2 -10]\n",
      "\n",
      "[[  7   6   5  -7]\n",
      " [ -4   8  -5  -4]\n",
      " [-10   9   8   8]\n",
      " [  6   2  -2   1]\n",
      " [ -5   3  -5  -2]\n",
      " [ -4   8  -2 -10]]\n",
      "\n"
     ]
    },
    {
     "data": {
      "text/plain": [
       "array([  7,   6,   5,  -7,  -4,   8,  -5,  -4, -10,   9,   8,   8,   6,\n",
       "         2,  -2,   1,  -5,   3,  -5,  -2,  -4,   8,  -2, -10])"
      ]
     },
     "execution_count": 50,
     "metadata": {},
     "output_type": "execute_result"
    }
   ],
   "source": [
    "print(C)\n",
    "C1 = C.reshape(6, 4)\n",
    "print()\n",
    "print(C1)\n",
    "print()\n",
    "C1.flatten()"
   ]
  },
  {
   "cell_type": "code",
   "execution_count": 51,
   "metadata": {
    "colab": {
     "base_uri": "https://localhost:8080/"
    },
    "id": "lHBM9B8ZqsoF",
    "outputId": "8c301c79-f7fa-4e15-b946-5b9c2a87b102"
   },
   "outputs": [
    {
     "data": {
      "text/plain": [
       "array([[  7,   6,   5,  -7],\n",
       "       [ -4,   8,  -5,  -4],\n",
       "       [-10,   9,   8,   8],\n",
       "       [  6,   2,  -2,   1],\n",
       "       [ -5,   3,  -5,  -2],\n",
       "       [ -4,   8,  -2, -10]])"
      ]
     },
     "execution_count": 51,
     "metadata": {},
     "output_type": "execute_result"
    }
   ],
   "source": [
    "C1"
   ]
  },
  {
   "cell_type": "code",
   "execution_count": 52,
   "metadata": {
    "colab": {
     "base_uri": "https://localhost:8080/"
    },
    "id": "NcjtvfwfFCDG",
    "outputId": "dbfc68eb-539e-4f49-b80d-4bf21d51377a"
   },
   "outputs": [
    {
     "data": {
      "text/plain": [
       "array([  7,   6,   5,  -7,  -4,   8,  -5,  -4, -10,   9,   8,   8,   6,\n",
       "         2,  -2,   1,  -5,   3,  -5,  -2,  -4,   8,  -2, -10])"
      ]
     },
     "execution_count": 52,
     "metadata": {},
     "output_type": "execute_result"
    }
   ],
   "source": [
    "C.reshape(3, 2, 2, 2).flatten()"
   ]
  },
  {
   "cell_type": "markdown",
   "metadata": {
    "id": "iq-9D5MJFJvZ"
   },
   "source": [
    "# Zagadnienie regresji"
   ]
  },
  {
   "cell_type": "code",
   "execution_count": 53,
   "metadata": {
    "tags": []
   },
   "outputs": [],
   "source": [
    "import numpy as np\n",
    "import matplotlib.pyplot as plt\n",
    "\n",
    "data = np.random.uniform(0, 10, size=(50, 1))\n",
    "noise = np.random.randn(data.shape[0], 1)\n",
    "\n",
    "a, b = 3, 5\n",
    "beta = np.array([[b], [a]])\n",
    "\n",
    "Intercept = np.ones((data.size, 1))\n",
    "X = np.concatenate([Intercept, data], axis=1)\n",
    "Y = X.dot(beta) + noise\n",
    "Y_true = X.dot(beta)"
   ]
  },
  {
   "cell_type": "code",
   "execution_count": 54,
   "metadata": {},
   "outputs": [
    {
     "name": "stdout",
     "output_type": "stream",
     "text": [
      "Parametr a: wartość prawdziwa: 3 wartość estymowana: [3.00779835]\n",
      "Parametr b: wartość prawdziwa: 5 wartość estymowana: [4.94817058]\n"
     ]
    }
   ],
   "source": [
    "est_param = np.linalg.inv(X.T.dot(X)).dot(X.T).dot(Y)\n",
    "b_est = est_param[0]\n",
    "a_est = est_param[1]\n",
    "print(f\"Parametr a: wartość prawdziwa: {a} wartość estymowana: {a_est}\")\n",
    "print(f\"Parametr b: wartość prawdziwa: {b} wartość estymowana: {b_est}\")"
   ]
  },
  {
   "cell_type": "code",
   "execution_count": 55,
   "metadata": {},
   "outputs": [
    {
     "data": {
      "text/plain": [
       "array([[4.94817058],\n",
       "       [3.00779835]])"
      ]
     },
     "execution_count": 55,
     "metadata": {},
     "output_type": "execute_result"
    }
   ],
   "source": [
    "est_param"
   ]
  },
  {
   "cell_type": "code",
   "execution_count": 56,
   "metadata": {
    "id": "SlcKxzCJGmx_"
   },
   "outputs": [],
   "source": [
    "# funkcja estymowana\n",
    "Y_est = np.dot(X, est_param)"
   ]
  },
  {
   "cell_type": "code",
   "execution_count": 57,
   "metadata": {
    "colab": {
     "base_uri": "https://localhost:8080/",
     "height": 428
    },
    "id": "qZltiIOpGKAR",
    "outputId": "ef5efdaa-2c57-4f01-b4ee-99fda4666472"
   },
   "outputs": [
    {
     "data": {
      "image/png": "[encoded data removed]",
      "text/plain": [
       "<Figure size 720x504 with 1 Axes>"
      ]
     },
     "metadata": {
      "needs_background": "light"
     },
     "output_type": "display_data"
    }
   ],
   "source": [
    "plt.figure(figsize=(10, 7))\n",
    "plt.scatter(X[:, 1], Y, alpha=0.7, s=1, label='obserwacje')\n",
    "plt.plot(X[:, [1]], Y_true, color='red', label='funkcja teoretyczna', alpha=0.7)  # teoretyczna funkcja\n",
    "plt.plot(X[:, 1], Y_est, color='orange', label='funkcja estymowana', alpha=0.7)  # estymowana funkcja\n",
    "plt.legend()\n",
    "plt.show()"
   ]
  },
  {
   "cell_type": "markdown",
   "metadata": {
    "tags": []
   },
   "source": [
    "## Zadanie 1\n",
    "Stwórz numpy array z wartościami od 1 do do 9, wyświetl, a następnie odwróć tę tablicę (pierwszy element zostaje ostatnim, itd.). "
   ]
  },
  {
   "cell_type": "code",
   "execution_count": 58,
   "metadata": {},
   "outputs": [
    {
     "name": "stdout",
     "output_type": "stream",
     "text": [
      "[1 2 3 4 5 6 7 8 9]\n",
      "[9 8 7 6 5 4 3 2 1]\n"
     ]
    }
   ],
   "source": [
    "import numpy as np\n",
    "\n",
    "a = np.arange(1, 10)\n",
    "print(a)\n",
    "print(a[::-1])"
   ]
  },
  {
   "cell_type": "markdown",
   "metadata": {},
   "source": [
    "## Zadanie 2\n",
    "Stwórz następujący numpy array: [1, 23, 4, 31, 1, 1, 4, 23, 4, 1]; a następnie wypisz wszystkie unikalne (nie powtarzające się) elementy."
   ]
  },
  {
   "cell_type": "code",
   "execution_count": 59,
   "metadata": {},
   "outputs": [
    {
     "name": "stdout",
     "output_type": "stream",
     "text": [
      "[ 1 23  4 31  1  1  4 23  4  1]\n",
      "[ 1  4 23 31]\n"
     ]
    }
   ],
   "source": [
    "import numpy as np\n",
    "\n",
    "a = np.array([1, 23, 4, 31, 1, 1, 4, 23, 4, 1])\n",
    "print(a)\n",
    "print(np.unique(a))"
   ]
  },
  {
   "cell_type": "markdown",
   "metadata": {},
   "source": [
    "## Zadanie 3\n",
    "Stwórz macierz 3x3 (używając reshape) z wartościami od 2 do 10."
   ]
  },
  {
   "cell_type": "code",
   "execution_count": 60,
   "metadata": {},
   "outputs": [
    {
     "name": "stdout",
     "output_type": "stream",
     "text": [
      "[[ 2  3  4]\n",
      " [ 5  6  7]\n",
      " [ 8  9 10]]\n"
     ]
    }
   ],
   "source": [
    "import numpy as np\n",
    "\n",
    "a = np.arange(2, 11).reshape(3, 3)\n",
    "print(a)"
   ]
  },
  {
   "cell_type": "markdown",
   "metadata": {},
   "source": [
    "## Zadanie 4\n",
    "Stwórz tablicę z sześcioma losowymi wartościami z przedziału od 10 do 30."
   ]
  },
  {
   "cell_type": "code",
   "execution_count": 61,
   "metadata": {},
   "outputs": [
    {
     "name": "stdout",
     "output_type": "stream",
     "text": [
      "[22 14 14 12 13 16]\n"
     ]
    }
   ],
   "source": [
    "import numpy as np\n",
    "\n",
    "a = np.random.randint(low=10, high=30, size=6)\n",
    "print(a)"
   ]
  },
  {
   "cell_type": "markdown",
   "metadata": {},
   "source": [
    "## Zadanie 5\n",
    "Spośród tablicy wartości: [23, 45, 112, 150, 43, 254, 95, 8] wyfiltruj te, które są większe od 100."
   ]
  },
  {
   "cell_type": "code",
   "execution_count": 62,
   "metadata": {},
   "outputs": [
    {
     "name": "stdout",
     "output_type": "stream",
     "text": [
      "[ 23  45 112 150  43 254  95   8]\n",
      "[112 150 254]\n",
      "[112 150 254]\n"
     ]
    }
   ],
   "source": [
    "import numpy as np\n",
    "\n",
    "a = np.array([23, 45, 112, 150, 43, 254, 95, 8])\n",
    "print(a)\n",
    "print(a[a > 100])\n",
    "print(a[np.where(a > 100)])"
   ]
  },
  {
   "cell_type": "markdown",
   "metadata": {
    "tags": []
   },
   "source": [
    "## Zadanie 6\n",
    "Stwórz poniższą macierz 4x4, a następnie:\n",
    "\n",
    "1, 15, 4, 13, \\\n",
    "8, 21, 3, 12, \\\n",
    "11, 13, 11, 5, \\\n",
    "32, 13, 0, 2\n",
    "\n",
    "\n",
    "* wyświetl element z drugiego wiersza i trzeciej kolumny, \n",
    "* oblicz jej wyznacznik,\n",
    "* oblicz jej ślad (sumę elementów na głównej przekątnej),\n",
    "* znajdź element największy i najmniejszy."
   ]
  },
  {
   "cell_type": "code",
   "execution_count": 63,
   "metadata": {},
   "outputs": [
    {
     "name": "stdout",
     "output_type": "stream",
     "text": [
      "3\n",
      "-19963.99999999999\n",
      "35\n",
      "0 32\n"
     ]
    }
   ],
   "source": [
    "import numpy as np\n",
    "\n",
    "a = np.array([[1, 15, 4, 13], [8, 21, 3, 12], [11, 13, 11, 5], [32, 13, 0, 2]])\n",
    "print(a[1][2])\n",
    "print(np.linalg.det(a))\n",
    "print(a.diagonal().sum())\n",
    "print(a.min(), a.max())"
   ]
  }
 ],
 "metadata": {
  "colab": {
   "collapsed_sections": [],
   "name": "Stats I Prob.ipynb",
   "provenance": []
  },
  "kernelspec": {
   "display_name": "venv_app",
   "language": "python",
   "name": "venv_app"
  },
  "language_info": {
   "codemirror_mode": {
    "name": "ipython",
    "version": 3
   },
   "file_extension": ".py",
   "mimetype": "text/x-python",
   "name": "python",
   "nbconvert_exporter": "python",
   "pygments_lexer": "ipython3",
   "version": "3.9.4"
  }
 },
 "nbformat": 4,
 "nbformat_minor": 4
}
