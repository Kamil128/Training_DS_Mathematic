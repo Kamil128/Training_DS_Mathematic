{
 "cells": [
  {
   "cell_type": "markdown",
   "id": "3d9325ed-c650-475a-827b-73303d5f6578",
   "metadata": {},
   "source": [
    "# Testowanie Hipotez Statystycznych"
   ]
  },
  {
   "cell_type": "markdown",
   "id": "b99ec0b7-e3c7-464b-b2b9-788457fc1102",
   "metadata": {
    "tags": []
   },
   "source": [
    "### test t-studenta dla jednej próbki"
   ]
  },
  {
   "cell_type": "code",
   "execution_count": 4,
   "id": "9e733d6d-bb8a-4744-9b87-60654d0f7c09",
   "metadata": {},
   "outputs": [],
   "source": [
    "import numpy as np\n",
    "import matplotlib.pyplot as plt"
   ]
  },
  {
   "cell_type": "code",
   "execution_count": 5,
   "id": "67e97a0d-5bfb-4743-8db1-208931f7c86b",
   "metadata": {},
   "outputs": [
    {
     "data": {
      "image/png": "[encoded data removed]",
      "text/plain": [
       "<Figure size 432x288 with 1 Axes>"
      ]
     },
     "metadata": {
      "needs_background": "light"
     },
     "output_type": "display_data"
    },
    {
     "name": "stdout",
     "output_type": "stream",
     "text": [
      "Ttest_1sampResult(statistic=14.585382191818757, pvalue=7.92410880757054e-44)\n",
      "Ttest_1sampResult(statistic=8.21085542289713, pvalue=6.738737762068824e-16)\n",
      "Ttest_1sampResult(statistic=0.24269696174509586, pvalue=0.8082899794044538)\n",
      "Ttest_1sampResult(statistic=-1.350934730485311, pvalue=0.1770222291723873)\n",
      "Ttest_1sampResult(statistic=-2.9445664227157176, pvalue=0.0033089947977429065)\n",
      "Ttest_1sampResult(statistic=-4.538198114946124, pvalue=6.363476951206814e-06)\n"
     ]
    }
   ],
   "source": [
    "from scipy import stats\n",
    "\n",
    "loc=5\n",
    "scale=10\n",
    "x = stats.norm.rvs(loc=loc, scale=scale, size=1_000)\n",
    "x = np.random.normal(loc=loc, scale=scale, size=1_000)\n",
    "\n",
    "plt.hist(x, alpha=0.6, bins=20)\n",
    "plt.show()\n",
    "\n",
    "print(stats.ttest_1samp(x, 0))\n",
    "print(stats.ttest_1samp(x, 2))\n",
    "print(stats.ttest_1samp(x, 4.5))\n",
    "print(stats.ttest_1samp(x, 5))\n",
    "print(stats.ttest_1samp(x, 5.5))\n",
    "print(stats.ttest_1samp(x, 6))"
   ]
  },
  {
   "cell_type": "code",
   "execution_count": 6,
   "id": "733869f5-4e98-4c92-8ff4-7a58e27e83b6",
   "metadata": {},
   "outputs": [
    {
     "name": "stdout",
     "output_type": "stream",
     "text": [
      "Ttest_1sampResult(statistic=14.585382191818757, pvalue=7.92410880757054e-44)\n",
      "Ttest_1sampResult(statistic=8.21085542289713, pvalue=6.738737762068824e-16)\n",
      "Ttest_1sampResult(statistic=0.24269696174509586, pvalue=0.8082899794044538)\n",
      "Ttest_1sampResult(statistic=-1.350934730485311, pvalue=0.1770222291723873)\n",
      "Ttest_1sampResult(statistic=-2.9445664227157176, pvalue=0.0033089947977429065)\n",
      "Ttest_1sampResult(statistic=-4.538198114946124, pvalue=6.363476951206814e-06)\n"
     ]
    }
   ],
   "source": [
    "print(stats.ttest_1samp(x, 0))\n",
    "print(stats.ttest_1samp(x, 2))\n",
    "print(stats.ttest_1samp(x, 4.5))\n",
    "print(stats.ttest_1samp(x, 5))\n",
    "print(stats.ttest_1samp(x, 5.5))\n",
    "print(stats.ttest_1samp(x, 6))"
   ]
  },
  {
   "cell_type": "markdown",
   "id": "ff3cbb1d-9a7d-4eca-bb19-1cee8f447406",
   "metadata": {},
   "source": [
    "### test t-studenta dla dwóch niezależnych próbek"
   ]
  },
  {
   "cell_type": "code",
   "execution_count": 7,
   "id": "790ca139-1c4a-4f79-9ccb-4e003e0a2a1d",
   "metadata": {},
   "outputs": [
    {
     "data": {
      "image/png": "[encoded data removed]",
      "text/plain": [
       "<Figure size 432x288 with 1 Axes>"
      ]
     },
     "metadata": {
      "needs_background": "light"
     },
     "output_type": "display_data"
    },
    {
     "name": "stdout",
     "output_type": "stream",
     "text": [
      "Ttest_indResult(statistic=-1.6001549294736914, pvalue=0.1097750795199064)\n"
     ]
    }
   ],
   "source": [
    "from scipy import stats\n",
    "\n",
    "loc1 = 5\n",
    "scale1 = 10\n",
    "loc2 = 5\n",
    "scale2 = 20\n",
    "# x = stats.norm.rvs(loc=loc, scale=scale, size=1_000)\n",
    "x1 = np.random.normal(loc=loc1, scale=scale1, size=1_000)\n",
    "x2 = np.random.normal(loc=loc2, scale=scale2, size=500)\n",
    "\n",
    "plt.hist(x1, alpha=0.3, bins=50)\n",
    "plt.hist(x2, alpha=0.3, bins=50)\n",
    "plt.show()\n",
    "\n",
    "print(stats.ttest_ind(x1, x2))"
   ]
  },
  {
   "cell_type": "markdown",
   "id": "5a36ac58-f89a-4266-95f3-943998e2a7c3",
   "metadata": {},
   "source": [
    "### test t-studenta dla dwóch zależnych próbek"
   ]
  },
  {
   "cell_type": "code",
   "execution_count": 8,
   "id": "ad40fec1-4858-4f8a-b6ee-a87aecda79cb",
   "metadata": {},
   "outputs": [
    {
     "data": {
      "image/png": "[encoded data removed]",
      "text/plain": [
       "<Figure size 432x288 with 1 Axes>"
      ]
     },
     "metadata": {
      "needs_background": "light"
     },
     "output_type": "display_data"
    },
    {
     "name": "stdout",
     "output_type": "stream",
     "text": [
      "Ttest_relResult(statistic=-1.5651036749900684, pvalue=0.11819252036367099)\n"
     ]
    }
   ],
   "source": [
    "from scipy import stats\n",
    "\n",
    "loc = 5\n",
    "scale = 10\n",
    "\n",
    "x1 = stats.norm.rvs(loc=loc, scale=scale, size=500)\n",
    "x2 = (stats.norm.rvs(loc=loc, scale=scale, size=500)\n",
    "         + stats.norm.rvs(scale=0.2, size=500))\n",
    "\n",
    "plt.hist(x1, alpha=0.3, bins=50)\n",
    "plt.hist(x2, alpha=0.3, bins=50)\n",
    "plt.show()\n",
    "\n",
    "print(stats.ttest_rel(x1, x2))"
   ]
  },
  {
   "cell_type": "markdown",
   "id": "d14d7733-5ebb-4f17-ae51-00a14337daf0",
   "metadata": {},
   "source": [
    "### Test normalności rozkładu"
   ]
  },
  {
   "cell_type": "code",
   "execution_count": 9,
   "id": "70957d49-9fa3-46d8-ab8c-f58d9e05218c",
   "metadata": {},
   "outputs": [
    {
     "data": {
      "image/png": "[encoded data removed]",
      "text/plain": [
       "<Figure size 432x288 with 1 Axes>"
      ]
     },
     "metadata": {
      "needs_background": "light"
     },
     "output_type": "display_data"
    },
    {
     "data": {
      "image/png": "[encoded data removed]",
      "text/plain": [
       "<Figure size 432x288 with 1 Axes>"
      ]
     },
     "metadata": {
      "needs_background": "light"
     },
     "output_type": "display_data"
    },
    {
     "data": {
      "text/plain": [
       "NormaltestResult(statistic=38.55056550424104, pvalue=4.2545248400491055e-09)"
      ]
     },
     "execution_count": 9,
     "metadata": {},
     "output_type": "execute_result"
    }
   ],
   "source": [
    "from scipy import stats\n",
    "\n",
    "x1 = stats.norm.rvs(loc=0, scale=1, size=500)\n",
    "x2 = stats.norm.rvs(loc=2, scale=1, size=500)\n",
    "\n",
    "x = np.concatenate((x1, x2))\n",
    "\n",
    "plt.hist(x1, alpha=0.3, bins=50)\n",
    "plt.hist(x2, alpha=0.3, bins=50)\n",
    "plt.show()\n",
    "\n",
    "plt.hist(x, alpha=0.3, bins=50)\n",
    "plt.show()\n",
    "\n",
    "stats.normaltest(x)"
   ]
  },
  {
   "cell_type": "markdown",
   "id": "eb703067-42ae-4847-b4a3-572a0a281fc0",
   "metadata": {},
   "source": [
    "### test Kołomorgowa-Smirnowa"
   ]
  },
  {
   "cell_type": "code",
   "execution_count": 10,
   "id": "9e17eab4-90ed-4185-9faa-917098fca2c0",
   "metadata": {},
   "outputs": [
    {
     "data": {
      "image/png": "[encoded data removed]",
      "text/plain": [
       "<Figure size 432x288 with 1 Axes>"
      ]
     },
     "metadata": {
      "needs_background": "light"
     },
     "output_type": "display_data"
    },
    {
     "name": "stdout",
     "output_type": "stream",
     "text": [
      "KstestResult(statistic=0.4443560271592436, pvalue=0.03885014008678778)\n"
     ]
    }
   ],
   "source": [
    "from scipy import stats\n",
    "\n",
    "x = np.linspace(-15, 15, 9)\n",
    "\n",
    "plt.hist(x, alpha=0.3, bins=50)\n",
    "plt.show()\n",
    "\n",
    "print(stats.kstest(x, 'norm'))"
   ]
  },
  {
   "cell_type": "markdown",
   "id": "3059e3d3-e452-4fef-98a8-4408a18cc626",
   "metadata": {},
   "source": [
    "### Test shapiro-wilka"
   ]
  },
  {
   "cell_type": "code",
   "execution_count": 11,
   "id": "6cc5c4a8-bc9c-449d-9316-4e77eb35cf53",
   "metadata": {},
   "outputs": [
    {
     "data": {
      "image/png": "[encoded data removed]",
      "text/plain": [
       "<Figure size 432x288 with 1 Axes>"
      ]
     },
     "metadata": {
      "needs_background": "light"
     },
     "output_type": "display_data"
    },
    {
     "name": "stdout",
     "output_type": "stream",
     "text": [
      "ShapiroResult(statistic=0.9903246164321899, pvalue=0.6908432245254517)\n"
     ]
    }
   ],
   "source": [
    "from scipy import stats\n",
    "\n",
    "x = stats.norm.rvs(loc=5, scale=3, size=100)\n",
    "plt.hist(x, alpha=0.3, bins=20)\n",
    "plt.show()\n",
    "\n",
    "print(stats.shapiro(x))"
   ]
  },
  {
   "cell_type": "markdown",
   "id": "a78087af-edf9-4b42-961e-15a4429bafa2",
   "metadata": {},
   "source": [
    "<hr>"
   ]
  },
  {
   "cell_type": "code",
   "execution_count": 14,
   "id": "84ac7c64-a134-40cc-ad83-eb58324b92a5",
   "metadata": {},
   "outputs": [
    {
     "name": "stderr",
     "output_type": "stream",
     "text": [
      "[NbConvertApp] Converting notebook Hipotezy.ipynb to html\n",
      "[NbConvertApp] Writing 640756 bytes to HTML/Hipotezy.html\n"
     ]
    }
   ],
   "source": [
    "%%bash\n",
    "jupyter nbconvert \\\n",
    "    --to html Hipotezy.ipynb \\\n",
    "    --output-dir ./HTML"
   ]
  },
  {
   "cell_type": "code",
   "execution_count": 1,
   "id": "f7564b65-1142-458d-92e2-b88315319d91",
   "metadata": {},
   "outputs": [],
   "source": [
    "import pandas as pd\n",
    "import numpy as np\n",
    "import scipy.stats as sps\n",
    "import matplotlib.pyplot as plt\n",
    "\n",
    "PATH = \"data/napoje.csv\"\n",
    "\n",
    "alpha = 0.05\n",
    "\n",
    "drinks_data = pd.read_csv(PATH, sep=';', na_values='.')"
   ]
  },
  {
   "cell_type": "code",
   "execution_count": 2,
   "id": "6305e25d-6c84-42b9-a749-593ce6cf5ee5",
   "metadata": {},
   "outputs": [
    {
     "data": {
      "text/html": [
       "<div>\n",
       "<style scoped>\n",
       "    .dataframe tbody tr th:only-of-type {\n",
       "        vertical-align: middle;\n",
       "    }\n",
       "\n",
       "    .dataframe tbody tr th {\n",
       "        vertical-align: top;\n",
       "    }\n",
       "\n",
       "    .dataframe thead th {\n",
       "        text-align: right;\n",
       "    }\n",
       "</style>\n",
       "<table border=\"1\" class=\"dataframe\">\n",
       "  <thead>\n",
       "    <tr style=\"text-align: right;\">\n",
       "      <th></th>\n",
       "      <th>mies</th>\n",
       "      <th>rok</th>\n",
       "      <th>pepsi</th>\n",
       "      <th>fanta</th>\n",
       "      <th>żywiec</th>\n",
       "      <th>okocim</th>\n",
       "      <th>regionalne</th>\n",
       "      <th>cola</th>\n",
       "      <th>lech</th>\n",
       "    </tr>\n",
       "  </thead>\n",
       "  <tbody>\n",
       "    <tr>\n",
       "      <th>0</th>\n",
       "      <td>1</td>\n",
       "      <td>2001</td>\n",
       "      <td>108447</td>\n",
       "      <td>43302</td>\n",
       "      <td>186385</td>\n",
       "      <td>54301</td>\n",
       "      <td>45065</td>\n",
       "      <td>227013</td>\n",
       "      <td>56306</td>\n",
       "    </tr>\n",
       "    <tr>\n",
       "      <th>1</th>\n",
       "      <td>2</td>\n",
       "      <td>2001</td>\n",
       "      <td>105439</td>\n",
       "      <td>46711</td>\n",
       "      <td>168782</td>\n",
       "      <td>68131</td>\n",
       "      <td>43933</td>\n",
       "      <td>221115</td>\n",
       "      <td>67212</td>\n",
       "    </tr>\n",
       "    <tr>\n",
       "      <th>2</th>\n",
       "      <td>3</td>\n",
       "      <td>2001</td>\n",
       "      <td>111675</td>\n",
       "      <td>36029</td>\n",
       "      <td>172186</td>\n",
       "      <td>63104</td>\n",
       "      <td>46663</td>\n",
       "      <td>222812</td>\n",
       "      <td>67398</td>\n",
       "    </tr>\n",
       "    <tr>\n",
       "      <th>3</th>\n",
       "      <td>4</td>\n",
       "      <td>2001</td>\n",
       "      <td>113232</td>\n",
       "      <td>33659</td>\n",
       "      <td>172445</td>\n",
       "      <td>50871</td>\n",
       "      <td>45195</td>\n",
       "      <td>238631</td>\n",
       "      <td>57100</td>\n",
       "    </tr>\n",
       "    <tr>\n",
       "      <th>4</th>\n",
       "      <td>5</td>\n",
       "      <td>2001</td>\n",
       "      <td>110274</td>\n",
       "      <td>40853</td>\n",
       "      <td>174526</td>\n",
       "      <td>67924</td>\n",
       "      <td>47926</td>\n",
       "      <td>222963</td>\n",
       "      <td>65001</td>\n",
       "    </tr>\n",
       "    <tr>\n",
       "      <th>...</th>\n",
       "      <td>...</td>\n",
       "      <td>...</td>\n",
       "      <td>...</td>\n",
       "      <td>...</td>\n",
       "      <td>...</td>\n",
       "      <td>...</td>\n",
       "      <td>...</td>\n",
       "      <td>...</td>\n",
       "      <td>...</td>\n",
       "    </tr>\n",
       "    <tr>\n",
       "      <th>187</th>\n",
       "      <td>8</td>\n",
       "      <td>2016</td>\n",
       "      <td>105949</td>\n",
       "      <td>43017</td>\n",
       "      <td>169329</td>\n",
       "      <td>64262</td>\n",
       "      <td>58101</td>\n",
       "      <td>222531</td>\n",
       "      <td>58037</td>\n",
       "    </tr>\n",
       "    <tr>\n",
       "      <th>188</th>\n",
       "      <td>9</td>\n",
       "      <td>2016</td>\n",
       "      <td>103420</td>\n",
       "      <td>44310</td>\n",
       "      <td>173923</td>\n",
       "      <td>67591</td>\n",
       "      <td>44565</td>\n",
       "      <td>230270</td>\n",
       "      <td>65156</td>\n",
       "    </tr>\n",
       "    <tr>\n",
       "      <th>189</th>\n",
       "      <td>10</td>\n",
       "      <td>2016</td>\n",
       "      <td>120363</td>\n",
       "      <td>50688</td>\n",
       "      <td>175856</td>\n",
       "      <td>63791</td>\n",
       "      <td>51376</td>\n",
       "      <td>247155</td>\n",
       "      <td>59276</td>\n",
       "    </tr>\n",
       "    <tr>\n",
       "      <th>190</th>\n",
       "      <td>11</td>\n",
       "      <td>2016</td>\n",
       "      <td>101215</td>\n",
       "      <td>41924</td>\n",
       "      <td>175914</td>\n",
       "      <td>62570</td>\n",
       "      <td>59505</td>\n",
       "      <td>240524</td>\n",
       "      <td>61765</td>\n",
       "    </tr>\n",
       "    <tr>\n",
       "      <th>191</th>\n",
       "      <td>12</td>\n",
       "      <td>2016</td>\n",
       "      <td>114300</td>\n",
       "      <td>42314</td>\n",
       "      <td>178209</td>\n",
       "      <td>65923</td>\n",
       "      <td>58508</td>\n",
       "      <td>223129</td>\n",
       "      <td>68106</td>\n",
       "    </tr>\n",
       "  </tbody>\n",
       "</table>\n",
       "<p>192 rows × 9 columns</p>\n",
       "</div>"
      ],
      "text/plain": [
       "     mies   rok   pepsi  fanta  żywiec  okocim  regionalne    cola   lech\n",
       "0       1  2001  108447  43302  186385   54301       45065  227013  56306\n",
       "1       2  2001  105439  46711  168782   68131       43933  221115  67212\n",
       "2       3  2001  111675  36029  172186   63104       46663  222812  67398\n",
       "3       4  2001  113232  33659  172445   50871       45195  238631  57100\n",
       "4       5  2001  110274  40853  174526   67924       47926  222963  65001\n",
       "..    ...   ...     ...    ...     ...     ...         ...     ...    ...\n",
       "187     8  2016  105949  43017  169329   64262       58101  222531  58037\n",
       "188     9  2016  103420  44310  173923   67591       44565  230270  65156\n",
       "189    10  2016  120363  50688  175856   63791       51376  247155  59276\n",
       "190    11  2016  101215  41924  175914   62570       59505  240524  61765\n",
       "191    12  2016  114300  42314  178209   65923       58508  223129  68106\n",
       "\n",
       "[192 rows x 9 columns]"
      ]
     },
     "execution_count": 2,
     "metadata": {},
     "output_type": "execute_result"
    }
   ],
   "source": [
    "drinks_data"
   ]
  },
  {
   "cell_type": "code",
   "execution_count": 3,
   "id": "4c97061b-81da-473e-9fcd-4d3b0287bac4",
   "metadata": {},
   "outputs": [
    {
     "name": "stdout",
     "output_type": "stream",
     "text": [
      "Hipothesis rejected!\n",
      "p-value: 0.0000\n"
     ]
    },
    {
     "data": {
      "image/png": "[encoded data removed]",
      "text/plain": [
       "<Figure size 432x288 with 1 Axes>"
      ]
     },
     "metadata": {
      "needs_background": "light"
     },
     "output_type": "display_data"
    },
    {
     "name": "stdout",
     "output_type": "stream",
     "text": [
      "Hipothesis rejected!\n",
      "p-value: 0.0000\n"
     ]
    },
    {
     "data": {
      "image/png": "[encoded data removed]",
      "text/plain": [
       "<Figure size 432x288 with 1 Axes>"
      ]
     },
     "metadata": {
      "needs_background": "light"
     },
     "output_type": "display_data"
    },
    {
     "name": "stdout",
     "output_type": "stream",
     "text": [
      "Hipothesis accepted\n",
      "p-value: 0.7200\n"
     ]
    },
    {
     "data": {
      "image/png": "[encoded data removed]",
      "text/plain": [
       "<Figure size 432x288 with 1 Axes>"
      ]
     },
     "metadata": {
      "needs_background": "light"
     },
     "output_type": "display_data"
    },
    {
     "name": "stdout",
     "output_type": "stream",
     "text": [
      "Hipothesis accepted\n",
      "p-value: 0.1827\n"
     ]
    },
    {
     "data": {
      "image/png": "[encoded data removed]",
      "text/plain": [
       "<Figure size 432x288 with 1 Axes>"
      ]
     },
     "metadata": {
      "needs_background": "light"
     },
     "output_type": "display_data"
    },
    {
     "name": "stdout",
     "output_type": "stream",
     "text": [
      "Hipothesis accepted\n",
      "p-value: 0.3402\n"
     ]
    },
    {
     "data": {
      "image/png": "[encoded data removed]",
      "text/plain": [
       "<Figure size 432x288 with 1 Axes>"
      ]
     },
     "metadata": {
      "needs_background": "light"
     },
     "output_type": "display_data"
    },
    {
     "name": "stdout",
     "output_type": "stream",
     "text": [
      "Hipothesis accepted\n",
      "p-value: 0.1265\n"
     ]
    },
    {
     "data": {
      "image/png": "[encoded data removed]",
      "text/plain": [
       "<Figure size 432x288 with 1 Axes>"
      ]
     },
     "metadata": {
      "needs_background": "light"
     },
     "output_type": "display_data"
    },
    {
     "name": "stdout",
     "output_type": "stream",
     "text": [
      "Hipothesis rejected!\n",
      "p-value: 0.0000\n"
     ]
    },
    {
     "data": {
      "image/png": "[encoded data removed]",
      "text/plain": [
       "<Figure size 432x288 with 1 Axes>"
      ]
     },
     "metadata": {
      "needs_background": "light"
     },
     "output_type": "display_data"
    },
    {
     "name": "stdout",
     "output_type": "stream",
     "text": [
      "Hipothesis accepted\n",
      "p-value: 0.5359\n"
     ]
    },
    {
     "data": {
      "image/png": "[encoded data removed]",
      "text/plain": [
       "<Figure size 432x288 with 1 Axes>"
      ]
     },
     "metadata": {
      "needs_background": "light"
     },
     "output_type": "display_data"
    },
    {
     "name": "stdout",
     "output_type": "stream",
     "text": [
      "Hipothesis accepted\n",
      "p-value: 0.4732\n"
     ]
    },
    {
     "data": {
      "image/png": "[encoded data removed]",
      "text/plain": [
       "<Figure size 432x288 with 1 Axes>"
      ]
     },
     "metadata": {
      "needs_background": "light"
     },
     "output_type": "display_data"
    }
   ],
   "source": [
    "for column in drinks_data.columns:\n",
    "    one_drink_data = drinks_data[column]\n",
    "    normal_results = sps.normaltest(one_drink_data)\n",
    "\n",
    "    p_val = normal_results.pvalue\n",
    "    if p_val < alpha:\n",
    "        print(\"Hipothesis rejected!\")\n",
    "    else:\n",
    "        print(\"Hipothesis accepted\")\n",
    "        \n",
    "    print(f\"p-value: {p_val:.4f}\")\n",
    "    one_drink_data.plot.hist(bins=20)\n",
    "    plt.show()"
   ]
  },
  {
   "cell_type": "code",
   "execution_count": 4,
   "id": "c31a50c9-8209-496b-a8b7-5eb3d519e8f3",
   "metadata": {},
   "outputs": [
    {
     "name": "stdout",
     "output_type": "stream",
     "text": [
      "Mean lech: 61091.35. Tested value: 60500.00\n",
      "p-value: 0.1013\n",
      "Hipothesis accepted\n",
      "\n",
      "Mean cola: 226389.47. Tested value: 222000.00\n",
      "p-value: 0.0000\n",
      "Hipothesis rejected!\n",
      "\n",
      "Mean regionalne: 48668.04. Tested value: 43500.00\n",
      "p-value: 0.0000\n",
      "Hipothesis rejected!\n",
      "\n"
     ]
    }
   ],
   "source": [
    "drink_types = ['lech', 'cola', 'regionalne']\n",
    "\n",
    "mean_values = [60500, 222000, 43500]\n",
    "\n",
    "for k in range(0, len(mean_values)):\n",
    "    result = sps.ttest_1samp(drinks_data[drink_types[k]], mean_values[k])\n",
    "    print('Mean %s: %.2f. Tested value: %.2f' % (drink_types[k], drinks_data[drink_types[k]].mean(),mean_values[k]))\n",
    "    print(f\"p-value: {result.pvalue:.4f}\")\n",
    "    if result.pvalue < alpha:\n",
    "        print(\"Hipothesis rejected!\")\n",
    "    else:\n",
    "        print(\"Hipothesis accepted\")\n",
    "    print()"
   ]
  },
  {
   "cell_type": "code",
   "execution_count": null,
   "id": "94504f9e-2b82-4f3f-bd68-0c0e8fab331f",
   "metadata": {},
   "outputs": [],
   "source": []
  }
 ],
 "metadata": {
  "kernelspec": {
   "display_name": "venv_app",
   "language": "python",
   "name": "venv_app"
  },
  "language_info": {
   "codemirror_mode": {
    "name": "ipython",
    "version": 3
   },
   "file_extension": ".py",
   "mimetype": "text/x-python",
   "name": "python",
   "nbconvert_exporter": "python",
   "pygments_lexer": "ipython3",
   "version": "3.9.4"
  }
 },
 "nbformat": 4,
 "nbformat_minor": 5
}
